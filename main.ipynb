{
 "cells": [
  {
   "cell_type": "code",
   "execution_count": 25,
   "metadata": {},
   "outputs": [
    {
     "name": "stdout",
     "output_type": "stream",
     "text": [
      "Index(['Suburb', 'Address', 'Rooms', 'Type', 'Price', 'Method', 'SellerG',\n",
      "       'Date', 'Distance', 'Postcode', 'Bedroom2', 'Bathroom', 'Car',\n",
      "       'Landsize', 'BuildingArea', 'YearBuilt', 'CouncilArea', 'Lattitude',\n",
      "       'Longtitude', 'Regionname', 'Propertycount'],\n",
      "      dtype='object')\n",
      "<class 'pandas.core.frame.DataFrame'>\n",
      "Index: 27247 entries, 1 to 34856\n",
      "Data columns (total 21 columns):\n",
      " #   Column         Non-Null Count  Dtype  \n",
      "---  ------         --------------  -----  \n",
      " 0   Suburb         27247 non-null  object \n",
      " 1   Address        27247 non-null  object \n",
      " 2   Rooms          27247 non-null  int64  \n",
      " 3   Type           27247 non-null  object \n",
      " 4   Price          27247 non-null  int64  \n",
      " 5   Method         27247 non-null  object \n",
      " 6   SellerG        27247 non-null  object \n",
      " 7   Date           27247 non-null  object \n",
      " 8   Distance       27246 non-null  float64\n",
      " 9   Postcode       27246 non-null  float64\n",
      " 10  Bedroom2       20806 non-null  float64\n",
      " 11  Bathroom       20800 non-null  float64\n",
      " 12  Car            20423 non-null  float64\n",
      " 13  Landsize       17982 non-null  float64\n",
      " 14  BuildingArea   10656 non-null  float64\n",
      " 15  YearBuilt      12084 non-null  float64\n",
      " 16  CouncilArea    27244 non-null  object \n",
      " 17  Lattitude      20993 non-null  float64\n",
      " 18  Longtitude     20993 non-null  float64\n",
      " 19  Regionname     27244 non-null  object \n",
      " 20  Propertycount  27244 non-null  float64\n",
      "dtypes: float64(11), int64(2), object(8)\n",
      "memory usage: 4.6+ MB\n",
      "None\n"
     ]
    }
   ],
   "source": [
    "import pandas as pd\n",
    "\n",
    "df = pd.read_csv(\"Melbourne_housing_FULL.txt\")\n",
    "print(df.columns)\n",
    "df = df.dropna(subset=[\"Price\"])\n",
    "df[\"Price\"] = df[\"Price\"].astype(int)\n",
    "print(df.info())\n",
    "\n",
    "\n"
   ]
  },
  {
   "cell_type": "code",
   "execution_count": null,
   "metadata": {},
   "outputs": [],
   "source": [
    "# Calculate the number of null values in the 'Price' column\n",
    "null_price_count = df['Price'].isnull().sum()\n",
    "\n",
    "# Get the total number of rows in the dataset\n",
    "total_rows = df.shape[0]\n",
    "\n",
    "# Calculate the percentage of null values in the 'Price' column\n",
    "null_percentage = (null_price_count / total_rows) * 100\n",
    "\n",
    "# Print the percentage of null values in the 'Price' column\n",
    "print(f\"Percentage of null values in the 'Price' column: {null_percentage}%\")\n"
   ]
  },
  {
   "cell_type": "code",
   "execution_count": null,
   "metadata": {},
   "outputs": [],
   "source": [
    "# Count occurrences of each property type\n",
    "type_counts = df[\"Type\"].value_counts()\n",
    "\n",
    "# Calculate percentage\n",
    "total_properties = len(df)\n",
    "most_common_type = type_counts.idxmax()\n",
    "most_common_percentage = (type_counts.max() / total_properties) * 100\n",
    "\n",
    "print(f\"Most common property type: {most_common_type}\")\n",
    "print(f\"Percentage of properties: {most_common_percentage:.2f}%\")\n"
   ]
  },
  {
   "cell_type": "code",
   "execution_count": null,
   "metadata": {},
   "outputs": [],
   "source": [
    "import seaborn as sns\n",
    "import matplotlib.pyplot as plt\n",
    "\n",
    "# Create a countplot for the 'Type' column (property type)\n",
    "plt.figure(figsize=(10, 6))  # Optional: Set the size of the plot\n",
    "sns.countplot(data=df, x='Type', order=df['Type'].value_counts().index)\n",
    "\n",
    "# Set labels and title\n",
    "plt.title('Frequency of Property Types in Melbourne Housing Market', fontsize=16)\n",
    "plt.xlabel('Property Type', fontsize=14)\n",
    "plt.ylabel('Count', fontsize=14)\n",
    "\n",
    "# Display the plot\n",
    "plt.show()\n"
   ]
  },
  {
   "cell_type": "code",
   "execution_count": null,
   "metadata": {},
   "outputs": [],
   "source": [
    "import seaborn as sns\n",
    "import matplotlib.pyplot as plt\n",
    "\n",
    "# Calculate the median price for each number of rooms\n",
    "median_price_by_rooms = df.groupby('Rooms')['Price'].median().reset_index()\n",
    "\n",
    "# Create a bar chart to represent the median property price for each number of rooms\n",
    "plt.figure(figsize=(10, 6))  # Optional: Set the size of the plot\n",
    "sns.barplot(data=median_price_by_rooms, x='Rooms', y='Price')\n",
    "\n",
    "# Set labels and title\n",
    "plt.title('Median Property Price by Number of Rooms', fontsize=16)\n",
    "plt.xlabel('Number of Rooms', fontsize=14)\n",
    "plt.ylabel('Median Price', fontsize=14)\n",
    "\n",
    "# Display the plot\n",
    "plt.show()\n"
   ]
  },
  {
   "cell_type": "code",
   "execution_count": null,
   "metadata": {},
   "outputs": [],
   "source": [
    "from scipy.stats import spearmanr\n",
    "\n",
    "# Calculate the Spearman correlation coefficient\n",
    "spearman_corr, _ = spearmanr(df['Rooms'], df['Price'])\n",
    "\n",
    "# Output the Spearman correlation coefficient\n",
    "print(f\"Spearman correlation coefficient between number of rooms and price: {spearman_corr}\")\n"
   ]
  },
  {
   "cell_type": "code",
   "execution_count": null,
   "metadata": {},
   "outputs": [],
   "source": [
    "import matplotlib.pyplot as plt\n",
    "import seaborn as sns\n",
    "\n",
    "# Create scatter plot\n",
    "plt.figure(figsize=(10,6))\n",
    "sns.scatterplot(x=df['Distance'], y=df['Price'])\n",
    "plt.title('Scatter Plot: Distance from CBD vs Property Price')\n",
    "plt.xlabel('Distance from CBD (km)')\n",
    "plt.ylabel('Property Price')\n",
    "plt.show()\n",
    "\n",
    "# Calculate Pearson correlation coefficient\n",
    "correlation = df['Distance'].corr(df['Price'])\n",
    "print(f\"Pearson Correlation Coefficient: {correlation}\")\n"
   ]
  },
  {
   "cell_type": "code",
   "execution_count": null,
   "metadata": {},
   "outputs": [],
   "source": [
    "import seaborn as sns\n",
    "import matplotlib.pyplot as plt\n",
    "\n",
    "# Scatter plot for land size and price\n",
    "plt.figure(figsize=(10, 6))\n",
    "sns.scatterplot(x='Landsize', y='Price', data=df)\n",
    "plt.title('Scatter Plot of Land Size vs Property Price')\n",
    "plt.xlabel('Land Size (sq meters)')\n",
    "plt.ylabel('Price (in dollars)')\n",
    "plt.show()\n",
    "\n",
    "# Calculate Pearson correlation between land size and price\n",
    "correlation_land_size_price = df['Landsize'].corr(df['Price'])\n",
    "print(f'Pearson correlation coefficient between land size and price: {correlation_land_size_price}')\n",
    "\n",
    "# If you want to check with building area:\n",
    "correlation_building_area_price = df['BuildingArea'].corr(df['Price'])\n",
    "print(f'Pearson correlation coefficient between building area and price: {correlation_building_area_price}')\n"
   ]
  },
  {
   "cell_type": "code",
   "execution_count": null,
   "metadata": {},
   "outputs": [],
   "source": [
    "print(df.columns)\n"
   ]
  },
  {
   "cell_type": "code",
   "execution_count": null,
   "metadata": {},
   "outputs": [],
   "source": [
    "# Assuming 'Landsize' is the correct column name for the land size in your DataFrame\n",
    "\n",
    "import pandas as pd\n",
    "import matplotlib.pyplot as plt\n",
    "\n",
    "# Categorize landsize into 7 quantiles\n",
    "df['LandsizeQuantile'] = pd.qcut(df['Landsize'], q=7)\n",
    "\n",
    "# Calculate the median price for each quantile\n",
    "median_price_by_landsize = df.groupby('LandsizeQuantile')['Price'].median()\n",
    "\n",
    "# Plotting the bar plot\n",
    "plt.figure(figsize=(10,6))\n",
    "median_price_by_landsize.plot(kind='bar')\n",
    "plt.title('Median Property Price by Landsize Quantile')\n",
    "plt.xlabel('Landsize Quantile')\n",
    "plt.ylabel('Median Property Price')\n",
    "plt.xticks(rotation=45)\n",
    "plt.show()\n"
   ]
  },
  {
   "cell_type": "code",
   "execution_count": null,
   "metadata": {},
   "outputs": [],
   "source": [
    "# Assuming 'Landsize' is the correct column name for the land size in your DataFrame\n",
    "\n",
    "import pandas as pd\n",
    "\n",
    "# Categorize landsize into 7 quantiles\n",
    "df['LandsizeQuantile'] = pd.qcut(df['Landsize'], q=7)\n",
    "\n",
    "# Calculate the median price for each quantile\n",
    "median_price_by_landsize = df.groupby('LandsizeQuantile')['Price'].median()\n",
    "\n",
    "# Output the result for sharing\n",
    "output = median_price_by_landsize.reset_index()\n",
    "print(output)\n"
   ]
  },
  {
   "cell_type": "code",
   "execution_count": null,
   "metadata": {},
   "outputs": [],
   "source": [
    "import matplotlib.pyplot as plt\n",
    "import seaborn as sns\n",
    "import pandas as pd\n",
    "\n",
    "# Calculate the IQR for price\n",
    "Q1 = df['Price'].quantile(0.25)\n",
    "Q3 = df['Price'].quantile(0.75)\n",
    "IQR = Q3 - Q1\n",
    "\n",
    "# Define the lower and upper bounds for outliers\n",
    "lower_bound = Q1 - 1.5 * IQR\n",
    "upper_bound = Q3 + 1.5 * IQR\n",
    "\n",
    "# Identify the outliers\n",
    "outliers = df[(df['Price'] < lower_bound) | (df['Price'] > upper_bound)]\n",
    "\n",
    "# Calculate the percentage of outliers\n",
    "outlier_percentage = len(outliers) / len(df) * 100\n",
    "\n",
    "# Create a box plot\n",
    "plt.figure(figsize=(10, 6))\n",
    "sns.boxplot(x=df['Price'])\n",
    "plt.title('Box plot of Property Prices')\n",
    "plt.show()\n",
    "\n",
    "# Output the percentage of outliers\n",
    "print(f\"Percentage of outliers using Tukey's method: {outlier_percentage:.2f}%\")\n"
   ]
  },
  {
   "cell_type": "code",
   "execution_count": null,
   "metadata": {},
   "outputs": [],
   "source": [
    "import numpy as np\n",
    "import scipy.stats as stats\n",
    "import seaborn as sns\n",
    "import matplotlib.pyplot as plt\n",
    "from scipy.stats import skew, kurtosis\n",
    "\n",
    "# Q-Q plot for property prices compared to a normal distribution\n",
    "plt.figure(figsize=(10, 6))\n",
    "stats.probplot(df['Price'], dist=\"norm\", plot=plt)\n",
    "plt.title('Q-Q plot of Property Prices vs Normal Distribution')\n",
    "plt.show()\n",
    "\n",
    "# Calculate skewness and kurtosis\n",
    "property_price_skewness = skew(df['Price'])\n",
    "property_price_kurtosis = kurtosis(df['Price'])\n",
    "\n",
    "# Output skewness and kurtosis\n",
    "print(f\"Skewness of the property price distribution: {property_price_skewness:.2f}\")\n",
    "print(f\"Kurtosis of the property price distribution: {property_price_kurtosis:.2f}\")\n"
   ]
  },
  {
   "cell_type": "code",
   "execution_count": null,
   "metadata": {},
   "outputs": [],
   "source": [
    "import seaborn as sns\n",
    "import matplotlib.pyplot as plt\n",
    "\n",
    "# Create a box plot for property price distribution by property type\n",
    "plt.figure(figsize=(10, 6))\n",
    "sns.boxplot(x='Type', y='Price', data=df)\n",
    "\n",
    "# Add titles and labels\n",
    "plt.title('Property Price Distribution by Property Type', fontsize=16)\n",
    "plt.xlabel('Property Type', fontsize=14)\n",
    "plt.ylabel('Price', fontsize=14)\n",
    "\n",
    "plt.show()\n"
   ]
  },
  {
   "cell_type": "code",
   "execution_count": null,
   "metadata": {},
   "outputs": [],
   "source": [
    "# Group by property type and calculate summary statistics for the 'Price' column\n",
    "property_price_summary = df.groupby('Type')['Price'].describe()\n",
    "\n",
    "# You can check if there are any outliers by using the IQR method, too\n",
    "Q1 = df['Price'].quantile(0.25)\n",
    "Q3 = df['Price'].quantile(0.75)\n",
    "IQR = Q3 - Q1\n",
    "outliers = df[(df['Price'] < (Q1 - 1.5 * IQR)) | (df['Price'] > (Q3 + 1.5 * IQR))]\n",
    "\n",
    "# Display the summary statistics and outliers\n",
    "print(property_price_summary)\n",
    "print(f'\\nNumber of outliers: {len(outliers)}')\n"
   ]
  },
  {
   "cell_type": "code",
   "execution_count": null,
   "metadata": {},
   "outputs": [],
   "source": [
    "# Group by region and calculate the median price\n",
    "region_median_prices = df.groupby('Regionname')['Price'].median()\n",
    "\n",
    "# Find the region with the highest and lowest median price\n",
    "highest_median_price_region = region_median_prices.idxmax()\n",
    "lowest_median_price_region = region_median_prices.idxmin()\n",
    "\n",
    "highest_median_price = region_median_prices.max()\n",
    "lowest_median_price = region_median_prices.min()\n",
    "\n",
    "# Output the results\n",
    "print(f\"Region with the highest median price: {highest_median_price_region} with median price {highest_median_price}\")\n",
    "print(f\"Region with the lowest median price: {lowest_median_price_region} with median price {lowest_median_price}\")\n"
   ]
  },
  {
   "cell_type": "code",
   "execution_count": null,
   "metadata": {},
   "outputs": [],
   "source": [
    "import pandas as pd\n",
    "\n",
    "# Replace 'your_dataset.csv' with the actual path to your dataset file\n",
    "data = pd.read_csv('Melbourne_housing_FULL.txt')\n"
   ]
  },
  {
   "cell_type": "code",
   "execution_count": null,
   "metadata": {},
   "outputs": [],
   "source": [
    "import numpy as np\n",
    "from scipy.stats import chi2_contingency\n",
    "\n",
    "# Step 1: Categorize 'Price' into 5 distinct ranges\n",
    "price_bins = [0, 500000, 1000000, 1500000, 2000000, np.inf]\n",
    "price_labels = ['0-500k', '500k-1M', '1M-1.5M', '1.5M-2M', '2M+']\n",
    "data['Price_Range'] = pd.cut(data['Price'], bins=price_bins, labels=price_labels)\n",
    "\n",
    "# Step 2: Perform the Chi-square test\n",
    "contingency_table = pd.crosstab(data['Regionname'], data['Price_Range'])\n",
    "chi2_stat, p_value, dof, expected = chi2_contingency(contingency_table)\n",
    "\n",
    "# Step 3: Calculate Cramer's V\n",
    "n = contingency_table.sum().sum()  # total number of observations\n",
    "phi2 = chi2_stat / n\n",
    "r, k = contingency_table.shape\n",
    "cramers_v = np.sqrt(phi2 / min(k - 1, r - 1))\n",
    "\n",
    "# Display the results\n",
    "chi2_stat, p_value, dof, cramers_v\n"
   ]
  },
  {
   "cell_type": "code",
   "execution_count": null,
   "metadata": {},
   "outputs": [],
   "source": [
    "# Step 1: Convert 'Date' column to datetime\n",
    "data['Date'] = pd.to_datetime(data['Date'], errors='coerce')\n",
    "\n",
    "# Step 2: Extract the year from the 'Date' column\n",
    "data['Year'] = data['Date'].dt.year\n",
    "\n",
    "# Step 3: Find the earliest and latest year\n",
    "earliest_year = data['Year'].min()\n",
    "latest_year = data['Year'].max()\n",
    "\n",
    "# Step 4: Calculate the median price for both years\n",
    "median_price_earliest = data[data['Year'] == earliest_year]['Price'].median()\n",
    "median_price_latest = data[data['Year'] == latest_year]['Price'].median()\n",
    "\n",
    "# Step 5: Calculate the percentage change in median price\n",
    "percentage_change = ((median_price_latest - median_price_earliest) / median_price_earliest) * 100\n",
    "\n",
    "# Output the result\n",
    "earliest_year, latest_year, median_price_earliest, median_price_latest, percentage_change\n"
   ]
  },
  {
   "cell_type": "code",
   "execution_count": null,
   "metadata": {},
   "outputs": [],
   "source": [
    "# Assuming 'data' is your dataframe and 'Date' is already in datetime format\n",
    "data['Month'] = data['Date'].dt.month  # Extract the month from the 'Date' column\n",
    "\n",
    "# Count the number of sales per month\n",
    "monthly_sales = data['Month'].value_counts().sort_index()\n",
    "\n",
    "# Find the month with the highest sales\n",
    "most_sales_month = monthly_sales.idxmax()\n",
    "most_sales_count = monthly_sales.max()\n",
    "\n",
    "print(f\"The month with the most sales is: {most_sales_month}, with {most_sales_count} sales.\")\n"
   ]
  }
 ],
 "metadata": {
  "kernelspec": {
   "display_name": "Python 3",
   "language": "python",
   "name": "python3"
  },
  "language_info": {
   "codemirror_mode": {
    "name": "ipython",
    "version": 3
   },
   "file_extension": ".py",
   "mimetype": "text/x-python",
   "name": "python",
   "nbconvert_exporter": "python",
   "pygments_lexer": "ipython3",
   "version": "3.12.6"
  }
 },
 "nbformat": 4,
 "nbformat_minor": 2
}
